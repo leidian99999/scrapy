{
 "cells": [
  {
   "cell_type": "code",
   "execution_count": 1,
   "metadata": {},
   "outputs": [],
   "source": [
    "# 导入库\n",
    "import requests\n",
    "from lxml import etree\n",
    "import csv"
   ]
  },
  {
   "cell_type": "markdown",
   "metadata": {},
   "source": [
    "### 主页源代码爬取"
   ]
  },
  {
   "cell_type": "code",
   "execution_count": 2,
   "metadata": {},
   "outputs": [],
   "source": [
    "url = \"http://www.stats.gov.cn/tjsj/tjbz/tjyqhdmhcxhfdm/2016/index.html\"\n",
    "headers={'User-Agent':'Mozilla/5.0 (Windows NT 6.1; WOW64) AppleWebKit/537.36 (KHTML, like Gecko) Chrome/62.0.3202.94 Safari/537.36'}"
   ]
  },
  {
   "cell_type": "code",
   "execution_count": 3,
   "metadata": {},
   "outputs": [],
   "source": [
    "# data = requests.get(url,headers = headers).text # 直接这样会出现乱码。。。"
   ]
  },
  {
   "cell_type": "code",
   "execution_count": 4,
   "metadata": {},
   "outputs": [],
   "source": [
    "response = requests.get(url,headers = headers)\n",
    "response.encoding = response.apparent_encoding # 网站现在使用的字符编码\n",
    "data = response.text"
   ]
  },
  {
   "cell_type": "code",
   "execution_count": 5,
   "metadata": {},
   "outputs": [
    {
     "data": {
      "text/plain": [
       "'<!DOCTYPE HTML PUBLIC \"-//W3C//DTD HTML 4.01 Transitional//EN\" \"http://www.w3c.org/TR/1999/REC-html401-19991224/loose.dtd\">\\r\\n<HTML>\\r\\n<HEAD>\\r\\n<META content=\"text/html; charset=gb2312\" http-equiv=Content-Type>\\r\\n<TITLE>2016年统计用区划代码和城乡划分代码</TITLE>\\r\\n<STYLE type=text/css>\\r\\n\\tBODY {MARGIN: 0px}BODY {FONT-SIZE: 12px}\\r\\n\\tTD {FONT-SIZE: 12px}\\r\\n\\tTH {FONT-SIZE: 12px}\\r\\n\\t.redBig {COLOR: #d00018; FONT-SIZE: 18px; FONT-WEIGHT: bold}\\r\\n\\t.STYLE3 a{COLOR: #fff; text-decoration:none;}\\r\\n\\t.STYLE5 {COLOR: #236fbe; FONT-WEIGHT: bold}\\r\\n\\t.content {LINE-HEIGHT: 1.5; FONT-SIZE: 10.4pt}\\r\\n\\t.tdPading {PADDING-LEFT: 30px}.blue {COLOR: #0000ff}\\r\\n\\t.STYLE6 {COLOR: #ffffff}\\r\\n\\t.a2 {LINE-HEIGHT: 1.5; COLOR: #2a6fbd; FONT-SIZE: 12px}\\r\\n\\ta2:link {LINE-HEIGHT: 1.5; COLOR: #2a6fbd; FONT-SIZE: 12px}\\r\\n\\ta2:hover {LINE-HEIGHT: 1.5; COLOR: #2a6fbd; FONT-SIZE: 12px; TEXT-DECORATION: underline}\\r\\n\\ta2:visited {LINE-HEIGHT: 1.5; COLOR: #2a6fbd; FONT-SIZE: 12px}\\r\\n</STYLE>\\r\\n<SCRIPT language=javascript>\\r\\nfunction doZoom(size){document.getElementById(\\'zoom\\').style.fontSize=size+\\'px\\';}\\r\\n</SCRIPT>\\r\\n<META name=GENERATOR content=\"MSHTML 8.00.7600.16700\">\\r\\n</HEAD>\\r\\n<BODY>\\r\\n<TABLE border=0 cellSpacing=0 cellPadding=0 width=778 align=center>\\r\\n<TBODY>\\r\\n<TR><TD colSpan=2><IMG src=\"http://www.stats.gov.cn/images/banner.jpg\" width=778 height=135></TD></TR></TBODY></TABLE><MAP id=Map name=Map><AREA href=\"http://www.stats.gov.cn/english/\" shape=rect coords=277,4,328,18><AREA href=\"http://www.stats.gov.cn:82/\" shape=rect coords=181,4,236,18><AREA href=\"http://www.stats.gov.cn/\" shape=rect coords=85,4,140,17></MAP><TABLE border=0 cellSpacing=0 cellPadding=0 width=778 align=center><TBODY><TR><TD vAlign=top><TABLE style=\"MARGIN-TOP: 15px; MARGIN-BOTTOM: 18px\" border=0 cellSpacing=0 cellPadding=0 width=\"100%\" align=center><TBODY><TR><TD style=\" BACKGROUND-REPEAT: repeat-x; BACKGROUND-POSITION: 50% top\" background=images/topLine.gif align=right></TD></TR><TR><TD style=\" BACKGROUND-REPEAT: repeat-y; BACKGROUND-POSITION: right 50%\" vAlign=top background=images/rightBorder.gif><TABLE border=0 cellSpacing=0 cellPadding=0 width=\"100%\"><TBODY><TR><TD width=\"1%\" height=\"200\" vAlign=top>\\r\\n<table class=\\'provincetable\\' width=775 ><tr ><td colspan=8  height=1 style=\\'FONT-SIZE: 5px\\' >&nbsp;</td></tr>\\r\\n<tr class=\\'provincehead\\'>\\r\\n  <td  colspan=8 align=\\'center\\' style=\\'FONT-SIZE: 16px\\' height=39 vAlign=\\'center\\' background=\\'images/tiao.jpg\\'>\\r\\n<strong>2016年统计用区划代码和城乡划分代码(截止2016年07月31日)</strong></td>\\r\\n</tr>\\t<tr >\\r\\n  <td colspan=8  height=50 style=\\'FONT-SIZE: 12px\\' > \\u3000\\u3000说明：统计用区划代码和城乡划分代码所涉及的数据，是国家统计局开展统计调查所涉及的区划范围，未包括我国台湾省、香港特别行政区、澳门特别行政区。统计用区划代码和城乡划分代码包括12位统计用区划代码、2位城乡属性代码和3位城乡分类代码。其中，城乡属性代码主要用于数据质量控制，暂未公布。<br></td>\\r\\n</tr>\\r\\n<tr class=\\'provincetr\\'><td><a href=\\'11.html\\'>北京市<br/></a></td><td><a href=\\'12.html\\'>天津市<br/></a></td><td><a href=\\'13.html\\'>河北省<br/></a></td><td><a href=\\'14.html\\'>山西省<br/></a></td><td><a href=\\'15.html\\'>内蒙古自治区<br/></a></td><td><a href=\\'21.html\\'>辽宁省<br/></a></td><td><a href=\\'22.html\\'>吉林省<br/></a></td><td><a href=\\'23.html\\'>黑龙江省<br/></a></td></tr><tr class=\\'provincetr\\'><td><a href=\\'31.html\\'>上海市<br/></a></td><td><a href=\\'32.html\\'>江苏省<br/></a></td><td><a href=\\'33.html\\'>浙江省<br/></a></td><td><a href=\\'34.html\\'>安徽省<br/></a></td><td><a href=\\'35.html\\'>福建省<br/></a></td><td><a href=\\'36.html\\'>江西省<br/></a></td><td><a href=\\'37.html\\'>山东省<br/></a></td><td><a href=\\'41.html\\'>河南省<br/></a></td></tr><tr class=\\'provincetr\\'><td><a href=\\'42.html\\'>湖北省<br/></a></td><td><a href=\\'43.html\\'>湖南省<br/></a></td><td><a href=\\'44.html\\'>广东省<br/></a></td><td><a href=\\'45.html\\'>广西壮族自治区<br/></a></td><td><a href=\\'46.html\\'>海南省<br/></a></td><td><a href=\\'50.html\\'>重庆市<br/></a></td><td><a href=\\'51.html\\'>四川省<br/></a></td><td><a href=\\'52.html\\'>贵州省<br/></a></td></tr><tr class=\\'provincetr\\'><td><a href=\\'53.html\\'>云南省<br/></a></td><td><a href=\\'54.html\\'>西藏自治区<br/></a></td><td><a href=\\'61.html\\'>陕西省<br/></a></td><td><a href=\\'62.html\\'>甘肃省<br/></a></td><td><a href=\\'63.html\\'>青海省<br/></a></td><td><a href=\\'64.html\\'>宁夏回族自治区<br/></a></td><td><a href=\\'65.html\\'>新疆维吾尔自治区<br/></a></td></tr>\\r\\n</table>\\r\\n</TD>\\r\\n</TR>\\r\\n</TBODY>\\r\\n</TABLE>\\r\\n</TD>\\r\\n</TR>\\r\\n<TR>\\r\\n<TD style=\"BACKGROUND-REPEAT: repeat-x; BACKGROUND-POSITION: 50% top\"          background=images/borderBottom.gif>\\r\\n</TD></TR></TBODY>\\r\\n</TABLE></TD></TR>  <TR>    <TD bgColor=#e2eefc height=2></TD></TR>  <TR>\\r\\n<TD class=STYLE3 height=60>\\r\\n<DIV align=center style=\"background-color:#1E67A7; height:75px; color:#fff;\"><br/>\\r\\n版权所有：国家统计局\\u3000\\u3000<A class=STYLE3       href=\"http://www.miibeian.gov.cn/\"       target=_blank>京ICP备05034670号</A><BR><BR>地址：北京市西城区月坛南街57号（100826）<BR></DIV></TD></TR></TBODY></TABLE></BODY></HTML>\\r\\n'"
      ]
     },
     "execution_count": 5,
     "metadata": {},
     "output_type": "execute_result"
    }
   ],
   "source": [
    "data"
   ]
  },
  {
   "cell_type": "markdown",
   "metadata": {},
   "source": [
    "### 省级名称、URL获取"
   ]
  },
  {
   "cell_type": "code",
   "execution_count": 6,
   "metadata": {},
   "outputs": [
    {
     "data": {
      "text/plain": [
       "<Element html at 0x566ea08>"
      ]
     },
     "execution_count": 6,
     "metadata": {},
     "output_type": "execute_result"
    }
   ],
   "source": [
    "selector = etree.HTML(data)\n",
    "selector"
   ]
  },
  {
   "cell_type": "code",
   "execution_count": 7,
   "metadata": {},
   "outputs": [
    {
     "data": {
      "text/plain": [
       "[<Element tr at 0x58d0f08>,\n",
       " <Element tr at 0x58db108>,\n",
       " <Element tr at 0x58db0c8>,\n",
       " <Element tr at 0x58db088>]"
      ]
     },
     "execution_count": 7,
     "metadata": {},
     "output_type": "execute_result"
    }
   ],
   "source": [
    "provinceList = selector.xpath(\"//*[@class='provincetr']\")\n",
    "provinceList"
   ]
  },
  {
   "cell_type": "code",
   "execution_count": 8,
   "metadata": {},
   "outputs": [],
   "source": [
    "for i in provinceList:\n",
    "    provinceName = i.xpath('td/a/text()')\n",
    "    provinceLink = i.xpath(\"td/a/@href\")"
   ]
  },
  {
   "cell_type": "code",
   "execution_count": 9,
   "metadata": {},
   "outputs": [
    {
     "data": {
      "text/plain": [
       "['云南省', '西藏自治区', '陕西省', '甘肃省', '青海省', '宁夏回族自治区', '新疆维吾尔自治区']"
      ]
     },
     "execution_count": 9,
     "metadata": {},
     "output_type": "execute_result"
    }
   ],
   "source": [
    "provinceName"
   ]
  },
  {
   "cell_type": "code",
   "execution_count": 10,
   "metadata": {},
   "outputs": [
    {
     "data": {
      "text/plain": [
       "['53.html', '54.html', '61.html', '62.html', '63.html', '64.html', '65.html']"
      ]
     },
     "execution_count": 10,
     "metadata": {},
     "output_type": "execute_result"
    }
   ],
   "source": [
    "provinceLink"
   ]
  },
  {
   "cell_type": "code",
   "execution_count": 11,
   "metadata": {},
   "outputs": [
    {
     "data": {
      "text/plain": [
       "7"
      ]
     },
     "execution_count": 11,
     "metadata": {},
     "output_type": "execute_result"
    }
   ],
   "source": [
    "len(provinceLink[4])"
   ]
  },
  {
   "cell_type": "code",
   "execution_count": 12,
   "metadata": {},
   "outputs": [
    {
     "data": {
      "text/plain": [
       "'63.html'"
      ]
     },
     "execution_count": 12,
     "metadata": {},
     "output_type": "execute_result"
    }
   ],
   "source": [
    "provinceLink[4]"
   ]
  },
  {
   "cell_type": "code",
   "execution_count": 15,
   "metadata": {},
   "outputs": [
    {
     "ename": "TypeError",
     "evalue": "'str' object does not support item assignment",
     "output_type": "error",
     "traceback": [
      "\u001b[1;31m---------------------------------------------------------------------------\u001b[0m",
      "\u001b[1;31mTypeError\u001b[0m                                 Traceback (most recent call last)",
      "\u001b[1;32m<ipython-input-15-c7afd0dbcd37>\u001b[0m in \u001b[0;36m<module>\u001b[1;34m\u001b[0m\n\u001b[0;32m      3\u001b[0m \u001b[1;32mfor\u001b[0m \u001b[0mi\u001b[0m \u001b[1;32min\u001b[0m \u001b[0mrange\u001b[0m\u001b[1;33m(\u001b[0m\u001b[0mlen\u001b[0m\u001b[1;33m(\u001b[0m\u001b[0mprovinceLink\u001b[0m\u001b[1;33m)\u001b[0m\u001b[1;33m)\u001b[0m\u001b[1;33m:\u001b[0m\u001b[1;33m\u001b[0m\u001b[0m\n\u001b[0;32m      4\u001b[0m     \u001b[1;32mfor\u001b[0m \u001b[0mj\u001b[0m \u001b[1;32min\u001b[0m \u001b[0mrange\u001b[0m\u001b[1;33m(\u001b[0m\u001b[0mlen\u001b[0m\u001b[1;33m(\u001b[0m\u001b[0mprovinceLink\u001b[0m\u001b[1;33m[\u001b[0m\u001b[0mi\u001b[0m\u001b[1;33m]\u001b[0m\u001b[1;33m)\u001b[0m\u001b[1;33m)\u001b[0m\u001b[1;33m:\u001b[0m\u001b[1;33m\u001b[0m\u001b[0m\n\u001b[1;32m----> 5\u001b[1;33m         \u001b[0mprovinceURL\u001b[0m\u001b[1;33m[\u001b[0m\u001b[0mi\u001b[0m\u001b[1;33m]\u001b[0m\u001b[1;33m[\u001b[0m\u001b[0mj\u001b[0m\u001b[1;33m]\u001b[0m\u001b[1;33m[\u001b[0m\u001b[1;36m0\u001b[0m\u001b[1;33m]\u001b[0m \u001b[1;33m=\u001b[0m  \u001b[0mprovinceLink\u001b[0m\u001b[1;33m[\u001b[0m\u001b[0mi\u001b[0m\u001b[1;33m]\u001b[0m\u001b[1;33m[\u001b[0m\u001b[0mj\u001b[0m\u001b[1;33m]\u001b[0m\u001b[1;33m[\u001b[0m\u001b[1;36m0\u001b[0m\u001b[1;33m]\u001b[0m\u001b[1;33m\u001b[0m\u001b[0m\n\u001b[0m\u001b[0;32m      6\u001b[0m \u001b[0mprovinceURL\u001b[0m\u001b[1;33m[\u001b[0m\u001b[1;36m0\u001b[0m\u001b[1;33m:\u001b[0m\u001b[1;36m2\u001b[0m\u001b[1;33m]\u001b[0m\u001b[1;33m\u001b[0m\u001b[0m\n\u001b[0;32m      7\u001b[0m \u001b[1;33m\u001b[0m\u001b[0m\n",
      "\u001b[1;31mTypeError\u001b[0m: 'str' object does not support item assignment"
     ]
    }
   ],
   "source": [
    "# 根据获取到的每个省的链接进行补全，得到真实的URL。\n",
    "provinceURL = provinceLink\n",
    "for i in range(len(provinceLink)):\n",
    "    for j in range(len(provinceLink[i])):\n",
    "        provinceURL[i][j][0] = url[:-10] + provinceLink[i][j][0]\n",
    "provinceURL[0:2]"
   ]
  },
  {
   "cell_type": "code",
   "execution_count": 14,
   "metadata": {},
   "outputs": [
    {
     "data": {
      "text/plain": [
       "list"
      ]
     },
     "execution_count": 14,
     "metadata": {},
     "output_type": "execute_result"
    }
   ],
   "source": [
    "type(provinceURL)"
   ]
  },
  {
   "cell_type": "code",
   "execution_count": null,
   "metadata": {},
   "outputs": [],
   "source": []
  }
 ],
 "metadata": {
  "kernelspec": {
   "display_name": "Python 3",
   "language": "python",
   "name": "python3"
  },
  "language_info": {
   "codemirror_mode": {
    "name": "ipython",
    "version": 3
   },
   "file_extension": ".py",
   "mimetype": "text/x-python",
   "name": "python",
   "nbconvert_exporter": "python",
   "pygments_lexer": "ipython3",
   "version": "3.6.6"
  }
 },
 "nbformat": 4,
 "nbformat_minor": 2
}
