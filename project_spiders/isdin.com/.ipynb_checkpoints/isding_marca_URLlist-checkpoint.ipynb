{
 "cells": [
  {
   "cell_type": "code",
   "execution_count": 1,
   "metadata": {},
   "outputs": [],
   "source": [
    "from bs4 import BeautifulSoup\n",
    "import requests\n",
    "import pandas as pd"
   ]
  },
  {
   "cell_type": "code",
   "execution_count": 2,
   "metadata": {},
   "outputs": [],
   "source": [
    "url = \"https://www.isdin.com/producto/\""
   ]
  },
  {
   "cell_type": "code",
   "execution_count": 3,
   "metadata": {},
   "outputs": [],
   "source": [
    "request = requests.get(url)"
   ]
  },
  {
   "cell_type": "code",
   "execution_count": 4,
   "metadata": {},
   "outputs": [],
   "source": [
    "request.encoding=\"utf-8\""
   ]
  },
  {
   "cell_type": "code",
   "execution_count": 5,
   "metadata": {},
   "outputs": [],
   "source": [
    "soup = BeautifulSoup(request.content,\"lxml\")"
   ]
  },
  {
   "cell_type": "code",
   "execution_count": 6,
   "metadata": {},
   "outputs": [],
   "source": [
    "marca_list = soup.select(\"ul.son-menu-marca\")"
   ]
  },
  {
   "cell_type": "code",
   "execution_count": 24,
   "metadata": {
    "collapsed": true
   },
   "outputs": [
    {
     "data": {
      "text/plain": [
       "[<ul class=\"sons-menu son-menu-marca open\">\n",
       " <li><a class=\"son \" href=\"/producto/fotoprotector-isdin\">Fotoprotector ISDIN</a></li>\n",
       " <li><a class=\"son \" href=\"/producto/foto-ultra-isdin\">Foto Ultra ISDIN</a></li>\n",
       " <li><a class=\"son \" href=\"/producto/eryfotona\">Eryfotona</a></li>\n",
       " <li><a class=\"son \" href=\"/producto/ureadin\">Ureadin</a></li>\n",
       " <li><a class=\"son \" href=\"/producto/maskream-cuidado-piel\">Maskream</a></li>\n",
       " <li><a class=\"son \" href=\"/producto/ureadin-fusion\">Ureadin Fusion</a></li>\n",
       " <li><a class=\"son icon_new\" href=\"/producto/ureadin-calm\">Ureadin Calm</a></li>\n",
       " <li><a class=\"son \" href=\"/producto/woman-isdin\">Woman ISDIN</a></li>\n",
       " <li><a class=\"son \" href=\"/producto/everclean\">Everclean</a></li>\n",
       " <li><a class=\"son icon_new\" href=\"/producto/isdinceutics-productos\">Isdinceutics</a></li>\n",
       " <li><a class=\"son \" href=\"/producto/germisdin\">Germisdin</a></li>\n",
       " <li><a class=\"son \" href=\"/producto/bexident\">Bexident</a></li>\n",
       " <li><a class=\"son \" href=\"/producto/nutraisdin\">Nutraisdin</a></li>\n",
       " <li><a class=\"son \" href=\"/producto/nutracel\">Nutracel</a></li>\n",
       " <li><a class=\"son \" href=\"/producto/lambdapil-anticaida\">Lambdapil Anticaída</a></li>\n",
       " <li><a class=\"son \" href=\"/producto/nutratopic\">Nutratopic</a></li>\n",
       " <li><a class=\"son \" href=\"/producto/antimosquitos-isdin\">Antimosquitos ISDIN</a></li>\n",
       " <li><a class=\"son \" href=\"/producto/mupirocina-isdin\">Mupirocina ISDIN</a></li>\n",
       " <li><a class=\"son \" href=\"/producto/antiverrugas-isdin\">Antiverrugas ISDIN</a></li>\n",
       " <li><a class=\"son \" href=\"/producto/isdiben\">Isdiben</a></li>\n",
       " <li><a class=\"son \" href=\"/producto/peroxiben\">Peroxiben</a></li>\n",
       " <li><a class=\"son \" href=\"/producto/after-sun-isdin\">After Sun ISDIN</a></li>\n",
       " <li><a class=\"son \" href=\"/producto/bexidermil\">Bexidermil</a></li>\n",
       " <li><a class=\"son \" href=\"/producto/clobisdin\">Clobisdin</a></li>\n",
       " <li><a class=\"son \" href=\"/producto/nutradeica\">Nutradeica</a></li>\n",
       " <li><a class=\"son \" href=\"/producto/vagifem\">Vagifem</a></li>\n",
       " <li><a class=\"son \" href=\"/producto/activelle\">Activelle</a></li>\n",
       " <li><a class=\"son \" href=\"/producto/lambdalina\">Lambdalina</a></li>\n",
       " <li><a class=\"son \" href=\"/producto/antipiojos-isdin\">Antipiojos ISDIN</a></li>\n",
       " <li><a class=\"son \" href=\"/producto/avena\">Avena</a></li>\n",
       " <li><a class=\"son \" href=\"/producto/acniben-repair\">Acniben Repair</a></li>\n",
       " <li><a class=\"son \" href=\"/producto/acniben\">Acniben</a></li>\n",
       " <li><a class=\"son \" href=\"/producto/psorisdin\">Psorisdin</a></li>\n",
       " <li><a class=\"son \" href=\"/producto/medicis\">Medicis</a></li>\n",
       " <li><a class=\"son \" href=\"/producto/hongoseril\">Hongoseril</a></li>\n",
       " <li><a class=\"son \" href=\"/producto/amorolfina-isdin\">Amorolfina ISDIN</a></li>\n",
       " <li><a class=\"son \" href=\"/producto/ciclopirox-isdin\">Ciclopirox ISDIN</a></li>\n",
       " <li><a class=\"son \" href=\"/producto/bonalfa\">Bonalfa</a></li>\n",
       " <li><a class=\"son \" href=\"/producto/nutrasona\">Nutrasona</a></li>\n",
       " <li><a class=\"son \" href=\"/producto/hidrocisdin\">Hidrocisdin</a></li>\n",
       " <li><a class=\"son \" href=\"/producto/ketoisdin\">Ketoisdin</a></li>\n",
       " <li><a class=\"son \" href=\"/producto/tactuoben\">Tactuoben</a></li>\n",
       " <li><a class=\"son \" href=\"/producto/eviana\">Eviana</a></li>\n",
       " <li><a class=\"son \" href=\"/producto/cicapost-isdin\">Cicapost ISDIN</a></li>\n",
       " <li><a class=\"son \" href=\"/producto/dermedica\">Dermédica</a></li>\n",
       " <li><a class=\"son \" href=\"/producto/fungisdin\">Fungisdin</a></li>\n",
       " <li><a class=\"son \" href=\"/producto/duofemme\">Duofemme</a></li>\n",
       " <li><a class=\"son \" href=\"/producto/calcio-d\">Calcio D</a></li>\n",
       " <li><a class=\"son \" href=\"/producto/acido-fusidico\">Ácido fusídico</a></li>\n",
       " <li><a class=\"son \" href=\"/producto/ciclopirox-olamina\">Ciclopirox olamina</a></li>\n",
       " <li><a class=\"son \" href=\"/producto/flunutrac\">Flunutrac</a></li>\n",
       " <li><a class=\"son \" href=\"/producto/glicoisdin\">Glicoisdin</a></li>\n",
       " <li><a class=\"son \" href=\"/producto/quocin\">Quocin</a></li>\n",
       " <li><a class=\"son \" href=\"/producto/lambdaxel\">Lambdaxel</a></li>\n",
       " <li><a class=\"son \" href=\"/producto/trisequens\">Trisequens</a></li>\n",
       " <li><a class=\"son \" href=\"/producto/retisdin\">Retisdin</a></li>\n",
       " <li><a class=\"son \" href=\"/producto/citroband-isdin\">CitroBand ISDIN</a></li>\n",
       " <li><a class=\"son icon_new\" href=\"/producto/finastopic-productos\">Finastopic</a></li>\n",
       " <li><a class=\"son icon_new\" href=\"/producto/desirial\">Desirial</a></li>\n",
       " <li><a class=\"son \" href=\"/producto/isdin-deo\">ISDIN Deo</a></li>\n",
       " <li><a class=\"son \" href=\"/producto/labiales-isdin\">Labiales ISDIN</a></li>\n",
       " <li><a class=\"son \" href=\"/products/micellar-solution\">Micellar Solution</a></li>\n",
       " <li><a class=\"son \" href=\"/producto/isdin-shampoo\">ISDIN Shampoo</a></li>\n",
       " <li><a class=\"son \" href=\"/producto/verrutop\">Verrutop</a></li>\n",
       " <li><a class=\"son \" href=\"/producto/ketopirox\">Ketopirox</a></li>\n",
       " <li><a class=\"son \" href=\"/producto/itragerm\">Itragerm</a></li>\n",
       " </ul>]"
      ]
     },
     "execution_count": 24,
     "metadata": {},
     "output_type": "execute_result"
    }
   ],
   "source": [
    "marca_list"
   ]
  },
  {
   "cell_type": "code",
   "execution_count": 30,
   "metadata": {
    "collapsed": true
   },
   "outputs": [
    {
     "name": "stdout",
     "output_type": "stream",
     "text": [
      "['https://www.isdin.com/producto/fotoprotector-isdin', 'https://www.isdin.com/producto/foto-ultra-isdin', 'https://www.isdin.com/producto/eryfotona', 'https://www.isdin.com/producto/ureadin', 'https://www.isdin.com/producto/maskream-cuidado-piel', 'https://www.isdin.com/producto/ureadin-fusion', 'https://www.isdin.com/producto/ureadin-calm', 'https://www.isdin.com/producto/woman-isdin', 'https://www.isdin.com/producto/everclean', 'https://www.isdin.com/producto/isdinceutics-productos', 'https://www.isdin.com/producto/germisdin', 'https://www.isdin.com/producto/bexident', 'https://www.isdin.com/producto/nutraisdin', 'https://www.isdin.com/producto/nutracel', 'https://www.isdin.com/producto/lambdapil-anticaida', 'https://www.isdin.com/producto/nutratopic', 'https://www.isdin.com/producto/antimosquitos-isdin', 'https://www.isdin.com/producto/mupirocina-isdin', 'https://www.isdin.com/producto/antiverrugas-isdin', 'https://www.isdin.com/producto/isdiben', 'https://www.isdin.com/producto/peroxiben', 'https://www.isdin.com/producto/after-sun-isdin', 'https://www.isdin.com/producto/bexidermil', 'https://www.isdin.com/producto/clobisdin', 'https://www.isdin.com/producto/nutradeica', 'https://www.isdin.com/producto/vagifem', 'https://www.isdin.com/producto/activelle', 'https://www.isdin.com/producto/lambdalina', 'https://www.isdin.com/producto/antipiojos-isdin', 'https://www.isdin.com/producto/avena', 'https://www.isdin.com/producto/acniben-repair', 'https://www.isdin.com/producto/acniben', 'https://www.isdin.com/producto/psorisdin', 'https://www.isdin.com/producto/medicis', 'https://www.isdin.com/producto/hongoseril', 'https://www.isdin.com/producto/amorolfina-isdin', 'https://www.isdin.com/producto/ciclopirox-isdin', 'https://www.isdin.com/producto/bonalfa', 'https://www.isdin.com/producto/nutrasona', 'https://www.isdin.com/producto/hidrocisdin', 'https://www.isdin.com/producto/ketoisdin', 'https://www.isdin.com/producto/tactuoben', 'https://www.isdin.com/producto/eviana', 'https://www.isdin.com/producto/cicapost-isdin', 'https://www.isdin.com/producto/dermedica', 'https://www.isdin.com/producto/fungisdin', 'https://www.isdin.com/producto/duofemme', 'https://www.isdin.com/producto/calcio-d', 'https://www.isdin.com/producto/acido-fusidico', 'https://www.isdin.com/producto/ciclopirox-olamina', 'https://www.isdin.com/producto/flunutrac', 'https://www.isdin.com/producto/glicoisdin', 'https://www.isdin.com/producto/quocin', 'https://www.isdin.com/producto/lambdaxel', 'https://www.isdin.com/producto/trisequens', 'https://www.isdin.com/producto/retisdin', 'https://www.isdin.com/producto/citroband-isdin', 'https://www.isdin.com/producto/finastopic-productos', 'https://www.isdin.com/producto/desirial', 'https://www.isdin.com/producto/isdin-deo', 'https://www.isdin.com/producto/labiales-isdin', 'https://www.isdin.com/products/micellar-solution', 'https://www.isdin.com/producto/isdin-shampoo', 'https://www.isdin.com/producto/verrutop', 'https://www.isdin.com/producto/ketopirox', 'https://www.isdin.com/producto/itragerm']\n"
     ]
    }
   ],
   "source": [
    "\n",
    "for i in marca_list:\n",
    "    marca_url = []\n",
    "    marca_name = []\n",
    "    for x in i.select(\"li\"):\n",
    "        marca_name.append(x.text)\n",
    "        marca_url.append(\"https://www.isdin.com\" + x.a[\"href\"])\n"
   ]
  },
  {
   "cell_type": "code",
   "execution_count": 31,
   "metadata": {},
   "outputs": [],
   "source": [
    "dict_list = {\n",
    "    \"marca_url\":marca_url,\n",
    "    \"marca_name\":marca_name\n",
    "}"
   ]
  },
  {
   "cell_type": "code",
   "execution_count": 32,
   "metadata": {},
   "outputs": [],
   "source": [
    "data = pd.core.frame.DataFrame(dict_list)\n",
    "data.to_excel(r\"D:\\GitHub\\scrapy\\scrapy\\project_spiders\\isdin.com\\marca\\\\\" +\"marca_list\" + \".xlsx\",index=False)"
   ]
  },
  {
   "cell_type": "code",
   "execution_count": null,
   "metadata": {},
   "outputs": [],
   "source": []
  }
 ],
 "metadata": {
  "kernelspec": {
   "display_name": "Python 3",
   "language": "python",
   "name": "python3"
  },
  "language_info": {
   "codemirror_mode": {
    "name": "ipython",
    "version": 3
   },
   "file_extension": ".py",
   "mimetype": "text/x-python",
   "name": "python",
   "nbconvert_exporter": "python",
   "pygments_lexer": "ipython3",
   "version": "3.5.2"
  }
 },
 "nbformat": 4,
 "nbformat_minor": 2
}
