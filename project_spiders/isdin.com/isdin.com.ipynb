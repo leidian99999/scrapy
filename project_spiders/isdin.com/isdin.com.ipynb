{
 "cells": [
  {
   "cell_type": "code",
   "execution_count": 1,
   "metadata": {},
   "outputs": [],
   "source": [
    "from bs4 import BeautifulSoup\n",
    "import requests\n",
    "import pandas as pd"
   ]
  },
  {
   "cell_type": "code",
   "execution_count": 2,
   "metadata": {},
   "outputs": [],
   "source": [
    "url = \"https://www.isdin.com/en/product/fotoprotector-isdin/sunbrush-mineral-spf-30-eng\""
   ]
  },
  {
   "cell_type": "code",
   "execution_count": 3,
   "metadata": {},
   "outputs": [],
   "source": [
    "request = requests.get(url)\n",
    "request.encoding = 'utf-8'\n",
    "soup = BeautifulSoup(request.content,'lxml')"
   ]
  },
  {
   "cell_type": "code",
   "execution_count": 6,
   "metadata": {},
   "outputs": [],
   "source": [
    "description = soup.select(\"div.description\")"
   ]
  },
  {
   "cell_type": "code",
   "execution_count": 23,
   "metadata": {},
   "outputs": [
    {
     "name": "stdout",
     "output_type": "stream",
     "text": [
      "[<p>- Broad-spectrum protection UVA/UVB SPF 30</p>, <p>- 100% mineral filters</p>, <p>- Light-reflecting particles that reduce the appearance of wrinkles and make skin look smoother</p>, <p>- Ultra-light texture</p>, <p>- No color, adapts to any skin tone</p>, <p>- Easy to apply and portable so you can take it anywhere</p>, <p>- Can be applied over makeup</p>, <p>- With antipollution active ingredients that protect skin against air contamination</p>, <p> </p>]\n"
     ]
    }
   ],
   "source": [
    "\n",
    "for x in description:\n",
    "    zone1_title = x.select(\"div.field_indicaciones h6\")[0].text\n",
    "    zone1_content = x.select('div.field_indicaciones p')[0].text\n",
    "    zone2_title = x.select(\"div.field_accion h6\")[0].text\n",
    "    for content in x.select('div.field_accion p'):\n",
    "        zong2_content = content[0].text\n",
    "    print(zone2_content)\n",
    "\n",
    "# zone1_title = description.select(\"h6\")\n",
    "# zone1_content = description.select('div.zoneContainer p')[0].text\n"
   ]
  },
  {
   "cell_type": "code",
   "execution_count": 22,
   "metadata": {},
   "outputs": [
    {
     "data": {
      "text/plain": [
       "'Sun protection powder, 100% mineral, ideal for reapplication of protection for all skin types, including atopic and sensitive skin.\\xa0'"
      ]
     },
     "execution_count": 22,
     "metadata": {},
     "output_type": "execute_result"
    }
   ],
   "source": [
    "zone1_content"
   ]
  },
  {
   "cell_type": "code",
   "execution_count": null,
   "metadata": {},
   "outputs": [],
   "source": []
  },
  {
   "cell_type": "code",
   "execution_count": null,
   "metadata": {},
   "outputs": [],
   "source": []
  }
 ],
 "metadata": {
  "kernelspec": {
   "display_name": "Python 3",
   "language": "python",
   "name": "python3"
  },
  "language_info": {
   "codemirror_mode": {
    "name": "ipython",
    "version": 3
   },
   "file_extension": ".py",
   "mimetype": "text/x-python",
   "name": "python",
   "nbconvert_exporter": "python",
   "pygments_lexer": "ipython3",
   "version": "3.5.2"
  }
 },
 "nbformat": 4,
 "nbformat_minor": 2
}
